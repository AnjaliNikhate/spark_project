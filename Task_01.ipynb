{
  "nbformat": 4,
  "nbformat_minor": 0,
  "metadata": {
    "colab": {
      "name": "Spark_Task_01.ipynb",
      "provenance": [],
      "collapsed_sections": []
    },
    "kernelspec": {
      "name": "python3",
      "display_name": "Python 3"
    },
    "language_info": {
      "name": "python"
    }
  },
  "cells": [
    {
      "cell_type": "code",
      "metadata": {
        "id": "ctIQqeybucfU"
      },
      "source": [
        ""
      ],
      "execution_count": null,
      "outputs": []
    },
    {
      "cell_type": "markdown",
      "metadata": {
        "id": "qb0sUyo4vuiR"
      },
      "source": [
        "#**Author :** Anjali Vijay Nikhate\n",
        "##**Email: anjalinikhate@gmail.com**\n",
        "##**Task 1 :** Prediction using Supervised Machine Learning (Level - Beginner)\n",
        "##GRIP @ The Sparks Foundation\n",
        "#**Role :** Data Science and Business Analytics [Batch september-2021]"
      ]
    },
    {
      "cell_type": "markdown",
      "metadata": {
        "id": "eXsShZ0R6vs1"
      },
      "source": [
        "#Linear Regression with Python Scikit Learn\n",
        "In this section we will see how the Python Scikit-Learn library for machine learning can be used to implement regression functions. We will start with simple linear regression involving two variables."
      ]
    },
    {
      "cell_type": "markdown",
      "metadata": {
        "id": "di0D6_7P79nf"
      },
      "source": [
        "#Problem statement :\n",
        "In this regression task we will predict the percentage of marks that a student is expected to score based upon the number of hours they studied. This is a simple linear regression task as it involves just two variables."
      ]
    },
    {
      "cell_type": "markdown",
      "metadata": {
        "id": "BltoiEYi0URT"
      },
      "source": [
        "#Importing dependencies"
      ]
    },
    {
      "cell_type": "code",
      "metadata": {
        "id": "tYdECKFFv3hZ"
      },
      "source": [
        "\n",
        "#importing packages\n",
        "import matplotlib.pyplot as plt\n",
        "import numpy as np\n",
        "import pandas as pd\n",
        "import seaborn as sns\n",
        "%matplotlib inline"
      ],
      "execution_count": null,
      "outputs": []
    },
    {
      "cell_type": "markdown",
      "metadata": {
        "id": "xVsI5Z0A0Vhk"
      },
      "source": [
        "#Loading the Data"
      ]
    },
    {
      "cell_type": "code",
      "metadata": {
        "id": "A68P9a1wwHB5"
      },
      "source": [
        "#importing datasets\n",
        "url = \"http://bit.ly/w-data\"\n",
        "data = pd.read_csv(url)"
      ],
      "execution_count": null,
      "outputs": []
    },
    {
      "cell_type": "markdown",
      "metadata": {
        "id": "DcY2vLEs0hAj"
      },
      "source": [
        "#Understanding data"
      ]
    },
    {
      "cell_type": "code",
      "metadata": {
        "colab": {
          "base_uri": "https://localhost:8080/",
          "height": 267
        },
        "id": "bfEdxYIcwQ6-",
        "outputId": "d0b51f36-177b-4c7a-f460-3445af7cb491"
      },
      "source": [
        "display(data.head(3),data.tail(3))"
      ],
      "execution_count": null,
      "outputs": [
        {
          "output_type": "display_data",
          "data": {
            "text/html": [
              "<div>\n",
              "<style scoped>\n",
              "    .dataframe tbody tr th:only-of-type {\n",
              "        vertical-align: middle;\n",
              "    }\n",
              "\n",
              "    .dataframe tbody tr th {\n",
              "        vertical-align: top;\n",
              "    }\n",
              "\n",
              "    .dataframe thead th {\n",
              "        text-align: right;\n",
              "    }\n",
              "</style>\n",
              "<table border=\"1\" class=\"dataframe\">\n",
              "  <thead>\n",
              "    <tr style=\"text-align: right;\">\n",
              "      <th></th>\n",
              "      <th>Hours</th>\n",
              "      <th>Scores</th>\n",
              "    </tr>\n",
              "  </thead>\n",
              "  <tbody>\n",
              "    <tr>\n",
              "      <th>0</th>\n",
              "      <td>2.5</td>\n",
              "      <td>21</td>\n",
              "    </tr>\n",
              "    <tr>\n",
              "      <th>1</th>\n",
              "      <td>5.1</td>\n",
              "      <td>47</td>\n",
              "    </tr>\n",
              "    <tr>\n",
              "      <th>2</th>\n",
              "      <td>3.2</td>\n",
              "      <td>27</td>\n",
              "    </tr>\n",
              "  </tbody>\n",
              "</table>\n",
              "</div>"
            ],
            "text/plain": [
              "   Hours  Scores\n",
              "0    2.5      21\n",
              "1    5.1      47\n",
              "2    3.2      27"
            ]
          },
          "metadata": {}
        },
        {
          "output_type": "display_data",
          "data": {
            "text/html": [
              "<div>\n",
              "<style scoped>\n",
              "    .dataframe tbody tr th:only-of-type {\n",
              "        vertical-align: middle;\n",
              "    }\n",
              "\n",
              "    .dataframe tbody tr th {\n",
              "        vertical-align: top;\n",
              "    }\n",
              "\n",
              "    .dataframe thead th {\n",
              "        text-align: right;\n",
              "    }\n",
              "</style>\n",
              "<table border=\"1\" class=\"dataframe\">\n",
              "  <thead>\n",
              "    <tr style=\"text-align: right;\">\n",
              "      <th></th>\n",
              "      <th>Hours</th>\n",
              "      <th>Scores</th>\n",
              "    </tr>\n",
              "  </thead>\n",
              "  <tbody>\n",
              "    <tr>\n",
              "      <th>22</th>\n",
              "      <td>3.8</td>\n",
              "      <td>35</td>\n",
              "    </tr>\n",
              "    <tr>\n",
              "      <th>23</th>\n",
              "      <td>6.9</td>\n",
              "      <td>76</td>\n",
              "    </tr>\n",
              "    <tr>\n",
              "      <th>24</th>\n",
              "      <td>7.8</td>\n",
              "      <td>86</td>\n",
              "    </tr>\n",
              "  </tbody>\n",
              "</table>\n",
              "</div>"
            ],
            "text/plain": [
              "    Hours  Scores\n",
              "22    3.8      35\n",
              "23    6.9      76\n",
              "24    7.8      86"
            ]
          },
          "metadata": {}
        }
      ]
    },
    {
      "cell_type": "code",
      "metadata": {
        "colab": {
          "base_uri": "https://localhost:8080/"
        },
        "id": "0N-vagyTwV-O",
        "outputId": "17d37b61-0bb6-4f30-c5bd-b24cfaa7c85e"
      },
      "source": [
        "print(type(data))\n",
        "print('-'*45)\n",
        "print('The data set has {} rows and {} columns'.format(data.shape[0],data.shape[1]))\n",
        "print('-'*45)\n",
        "print('Data types :') \n",
        "print(data.dtypes.value_counts())\n",
        "#print('Total : ',data.dtypes.value_counts().sum())\n",
        "print('-'*45)"
      ],
      "execution_count": null,
      "outputs": [
        {
          "output_type": "stream",
          "name": "stdout",
          "text": [
            "<class 'pandas.core.frame.DataFrame'>\n",
            "---------------------------------------------\n",
            "The data set has 25 rows and 2 columns\n",
            "---------------------------------------------\n",
            "Data types :\n",
            "int64      1\n",
            "float64    1\n",
            "dtype: int64\n",
            "---------------------------------------------\n"
          ]
        }
      ]
    },
    {
      "cell_type": "code",
      "metadata": {
        "colab": {
          "base_uri": "https://localhost:8080/"
        },
        "id": "tNG2fgtuwbVf",
        "outputId": "20d3a593-65bc-4cee-e6b2-db74c82cf8a3"
      },
      "source": [
        "data.info()"
      ],
      "execution_count": null,
      "outputs": [
        {
          "output_type": "stream",
          "name": "stdout",
          "text": [
            "<class 'pandas.core.frame.DataFrame'>\n",
            "RangeIndex: 25 entries, 0 to 24\n",
            "Data columns (total 2 columns):\n",
            " #   Column  Non-Null Count  Dtype  \n",
            "---  ------  --------------  -----  \n",
            " 0   Hours   25 non-null     float64\n",
            " 1   Scores  25 non-null     int64  \n",
            "dtypes: float64(1), int64(1)\n",
            "memory usage: 528.0 bytes\n"
          ]
        }
      ]
    },
    {
      "cell_type": "code",
      "metadata": {
        "colab": {
          "base_uri": "https://localhost:8080/"
        },
        "id": "_hNksplnwghQ",
        "outputId": "cf4df95b-b646-4853-a503-ca3ca247eb18"
      },
      "source": [
        "# Checking for the missing values\n",
        "data.isnull().sum()"
      ],
      "execution_count": null,
      "outputs": [
        {
          "output_type": "execute_result",
          "data": {
            "text/plain": [
              "Hours     0\n",
              "Scores    0\n",
              "dtype: int64"
            ]
          },
          "metadata": {},
          "execution_count": 6
        }
      ]
    },
    {
      "cell_type": "markdown",
      "metadata": {
        "id": "GwobOLHw1hY_"
      },
      "source": [
        "##Observation :\n",
        "\n",
        "\n",
        "*   There is no missing or null value & hence we don't need to do data preprocessing\n"
      ]
    },
    {
      "cell_type": "markdown",
      "metadata": {
        "id": "PMtLTkgT1as0"
      },
      "source": [
        "#Data Visualization"
      ]
    },
    {
      "cell_type": "code",
      "metadata": {
        "colab": {
          "base_uri": "https://localhost:8080/"
        },
        "id": "m5lPT0dYwmS3",
        "outputId": "5b4fbb44-3275-47a5-fdca-7401871e70d9"
      },
      "source": [
        "x = data.iloc[:,:-1].values  #spliting data in X & Y\n",
        "y = data.iloc[:,-1].values\n",
        "print(x[:5])\n",
        "print(y[:5])"
      ],
      "execution_count": null,
      "outputs": [
        {
          "output_type": "stream",
          "name": "stdout",
          "text": [
            "[[2.5]\n",
            " [5.1]\n",
            " [3.2]\n",
            " [8.5]\n",
            " [3.5]]\n",
            "[21 47 27 75 30]\n"
          ]
        }
      ]
    },
    {
      "cell_type": "code",
      "metadata": {
        "colab": {
          "base_uri": "https://localhost:8080/",
          "height": 279
        },
        "id": "mgp6lfazwpal",
        "outputId": "17a175cb-4330-40a7-cd79-4f10655c4d04"
      },
      "source": [
        "plt.xlabel('hours')\n",
        "plt.ylabel('scores')\n",
        "plt.scatter(x,y,color='red',marker='+')\n",
        "plt.grid()\n",
        "plt.show()"
      ],
      "execution_count": null,
      "outputs": [
        {
          "output_type": "display_data",
          "data": {
            "image/png": "[encoded data removed]",
            "text/plain": [
              "<Figure size 432x288 with 1 Axes>"
            ]
          },
          "metadata": {
            "needs_background": "light"
          }
        }
      ]
    },
    {
      "cell_type": "markdown",
      "metadata": {
        "id": "2gSH00CK1pTN"
      },
      "source": [
        "##Observation :\n",
        "\n",
        "\n",
        "*   From the graph we can safely assume a positive linear relation between the number of hours studied and percentage of score"
      ]
    },
    {
      "cell_type": "markdown",
      "metadata": {
        "id": "uhOZueBq1wrj"
      },
      "source": [
        "#Spliting data in x_train , x_test and y_train , y_test "
      ]
    },
    {
      "cell_type": "code",
      "metadata": {
        "id": "gtp2C9IwwvCu"
      },
      "source": [
        "from sklearn.model_selection import train_test_split  #spliting data in x_train , x_test & y_train,y_test \n",
        "x_train,x_test,y_train,y_test = train_test_split(x,y,test_size = 0.25, random_state = 0)"
      ],
      "execution_count": null,
      "outputs": []
    },
    {
      "cell_type": "markdown",
      "metadata": {
        "id": "8kDsb9AJ18RB"
      },
      "source": [
        "#Apply Linear Regression on train data"
      ]
    },
    {
      "cell_type": "code",
      "metadata": {
        "colab": {
          "base_uri": "https://localhost:8080/"
        },
        "id": "JlJEwf6VwyfX",
        "outputId": "7d27826a-d147-4bb8-fc5c-25e2835b88e7"
      },
      "source": [
        "from sklearn.linear_model import LinearRegression\n",
        "lin_reg = LinearRegression()\n",
        "lin_reg.fit(x_train,y_train)"
      ],
      "execution_count": null,
      "outputs": [
        {
          "output_type": "execute_result",
          "data": {
            "text/plain": [
              "LinearRegression(copy_X=True, fit_intercept=True, n_jobs=None, normalize=False)"
            ]
          },
          "metadata": {},
          "execution_count": 10
        }
      ]
    },
    {
      "cell_type": "code",
      "metadata": {
        "colab": {
          "base_uri": "https://localhost:8080/",
          "height": 279
        },
        "id": "BvJk2TF3w2kD",
        "outputId": "25f9fb47-e329-4e49-9028-0dd9acaf94eb"
      },
      "source": [
        "plt.xlabel('hours')\n",
        "plt.ylabel('scores')\n",
        "plt.scatter(x_train,y_train,color='purple',marker='+',label='scatter plot')\n",
        "plt.plot(x_train,lin_reg.predict(x_train),color='green',label='reg_line')\n",
        "plt.legend()\n",
        "plt.grid()\n",
        "plt.show()"
      ],
      "execution_count": null,
      "outputs": [
        {
          "output_type": "display_data",
          "data": {
            "image/png": "[encoded data removed]",
            "text/plain": [
              "<Figure size 432x288 with 1 Axes>"
            ]
          },
          "metadata": {
            "needs_background": "light"
          }
        }
      ]
    },
    {
      "cell_type": "markdown",
      "metadata": {
        "id": "Omc9ytJf2Cmi"
      },
      "source": [
        "#Apply Linear Regression on test data"
      ]
    },
    {
      "cell_type": "code",
      "metadata": {
        "colab": {
          "base_uri": "https://localhost:8080/",
          "height": 279
        },
        "id": "ZJkWJgacw6XL",
        "outputId": "cfa8591f-4f9b-4e0f-93b5-ef071bed0de3"
      },
      "source": [
        "plt.xlabel('hours')\n",
        "plt.ylabel('scores')\n",
        "plt.scatter(x_test,y_test,color='blue',marker='+',label='scatter plot')\n",
        "plt.plot(x_train,lin_reg.predict(x_train),color='purple',label='reg_line')\n",
        "plt.legend()\n",
        "plt.grid()\n",
        "plt.show()"
      ],
      "execution_count": null,
      "outputs": [
        {
          "output_type": "display_data",
          "data": {
            "image/png": "[encoded data removed]",
            "text/plain": [
              "<Figure size 432x288 with 1 Axes>"
            ]
          },
          "metadata": {
            "needs_background": "light"
          }
        }
      ]
    },
    {
      "cell_type": "markdown",
      "metadata": {
        "id": "HgF3MeTj2HoQ"
      },
      "source": [
        "#Coefficents and y-intercept"
      ]
    },
    {
      "cell_type": "code",
      "metadata": {
        "colab": {
          "base_uri": "https://localhost:8080/"
        },
        "id": "Q_-I_tM-w8tX",
        "outputId": "6b41e0ce-da18-44e7-b699-4cfabae23e8e"
      },
      "source": [
        "print('coefficents : ',lin_reg.coef_)\n",
        "print('y-intercept : ',lin_reg.intercept_)"
      ],
      "execution_count": null,
      "outputs": [
        {
          "output_type": "stream",
          "name": "stdout",
          "text": [
            "coefficents :  [9.94167834]\n",
            "y-intercept :  1.9322042531516601\n"
          ]
        }
      ]
    },
    {
      "cell_type": "code",
      "metadata": {
        "colab": {
          "base_uri": "https://localhost:8080/"
        },
        "id": "wuire65PxAFA",
        "outputId": "cbb2477d-df87-493d-89b4-f8653812d00f"
      },
      "source": [
        "y_pred = lin_reg.predict(x_test)\n",
        "y_pred"
      ],
      "execution_count": null,
      "outputs": [
        {
          "output_type": "execute_result",
          "data": {
            "text/plain": [
              "array([16.84472176, 33.74557494, 75.50062397, 26.7864001 , 60.58810646,\n",
              "       39.71058194, 20.8213931 ])"
            ]
          },
          "metadata": {},
          "execution_count": 14
        }
      ]
    },
    {
      "cell_type": "markdown",
      "metadata": {
        "id": "RbDk2jCS2Mkf"
      },
      "source": [
        "#Comparing Actual value with Predicted value"
      ]
    },
    {
      "cell_type": "code",
      "metadata": {
        "colab": {
          "base_uri": "https://localhost:8080/",
          "height": 266
        },
        "id": "6C3rgGkdxD--",
        "outputId": "10cc17a7-64f4-475d-e890-0c023077cf24"
      },
      "source": [
        "result = pd.DataFrame({'Actual values':y_test,'Predicted values':y_pred})\n",
        "result"
      ],
      "execution_count": null,
      "outputs": [
        {
          "output_type": "execute_result",
          "data": {
            "text/html": [
              "<div>\n",
              "<style scoped>\n",
              "    .dataframe tbody tr th:only-of-type {\n",
              "        vertical-align: middle;\n",
              "    }\n",
              "\n",
              "    .dataframe tbody tr th {\n",
              "        vertical-align: top;\n",
              "    }\n",
              "\n",
              "    .dataframe thead th {\n",
              "        text-align: right;\n",
              "    }\n",
              "</style>\n",
              "<table border=\"1\" class=\"dataframe\">\n",
              "  <thead>\n",
              "    <tr style=\"text-align: right;\">\n",
              "      <th></th>\n",
              "      <th>Actual values</th>\n",
              "      <th>Predicted values</th>\n",
              "    </tr>\n",
              "  </thead>\n",
              "  <tbody>\n",
              "    <tr>\n",
              "      <th>0</th>\n",
              "      <td>20</td>\n",
              "      <td>16.844722</td>\n",
              "    </tr>\n",
              "    <tr>\n",
              "      <th>1</th>\n",
              "      <td>27</td>\n",
              "      <td>33.745575</td>\n",
              "    </tr>\n",
              "    <tr>\n",
              "      <th>2</th>\n",
              "      <td>69</td>\n",
              "      <td>75.500624</td>\n",
              "    </tr>\n",
              "    <tr>\n",
              "      <th>3</th>\n",
              "      <td>30</td>\n",
              "      <td>26.786400</td>\n",
              "    </tr>\n",
              "    <tr>\n",
              "      <th>4</th>\n",
              "      <td>62</td>\n",
              "      <td>60.588106</td>\n",
              "    </tr>\n",
              "    <tr>\n",
              "      <th>5</th>\n",
              "      <td>35</td>\n",
              "      <td>39.710582</td>\n",
              "    </tr>\n",
              "    <tr>\n",
              "      <th>6</th>\n",
              "      <td>24</td>\n",
              "      <td>20.821393</td>\n",
              "    </tr>\n",
              "  </tbody>\n",
              "</table>\n",
              "</div>"
            ],
            "text/plain": [
              "   Actual values  Predicted values\n",
              "0             20         16.844722\n",
              "1             27         33.745575\n",
              "2             69         75.500624\n",
              "3             30         26.786400\n",
              "4             62         60.588106\n",
              "5             35         39.710582\n",
              "6             24         20.821393"
            ]
          },
          "metadata": {},
          "execution_count": 15
        }
      ]
    },
    {
      "cell_type": "code",
      "metadata": {
        "colab": {
          "base_uri": "https://localhost:8080/",
          "height": 534
        },
        "id": "L2QO9swtxIDZ",
        "outputId": "92f7aa55-1739-4bba-ccbd-4be45835cc90"
      },
      "source": [
        "\n",
        "# Plotting the Bar graph to depict the difference between the actual and predicted value\n",
        "\n",
        "result.plot(kind='bar',figsize=(9,9))\n",
        "plt.grid(which='major', linewidth='0.5', color='red')\n",
        "plt.grid(which='minor', linewidth='0.5', color='blue')\n",
        "plt.show()"
      ],
      "execution_count": null,
      "outputs": [
        {
          "output_type": "display_data",
          "data": {
            "image/png": "[encoded data removed]",
            "text/plain": [
              "<Figure size 648x648 with 1 Axes>"
            ]
          },
          "metadata": {
            "needs_background": "light"
          }
        }
      ]
    },
    {
      "cell_type": "code",
      "metadata": {
        "colab": {
          "base_uri": "https://localhost:8080/"
        },
        "id": "QyKBDprjxLm_",
        "outputId": "345be3bc-da70-4aa8-bae0-6970b891d293"
      },
      "source": [
        "diff = np.array(np.abs(y_test-y_pred))\n",
        "diff"
      ],
      "execution_count": null,
      "outputs": [
        {
          "output_type": "execute_result",
          "data": {
            "text/plain": [
              "array([3.15527824, 6.74557494, 6.50062397, 3.2135999 , 1.41189354,\n",
              "       4.71058194, 3.1786069 ])"
            ]
          },
          "metadata": {},
          "execution_count": 17
        }
      ]
    },
    {
      "cell_type": "markdown",
      "metadata": {
        "id": "lAjueYqp2SZl"
      },
      "source": [
        "#Displot distribution of Actual value with Predicted value"
      ]
    },
    {
      "cell_type": "code",
      "metadata": {
        "colab": {
          "base_uri": "https://localhost:8080/",
          "height": 265
        },
        "id": "8425uYOAxPWl",
        "outputId": "81b07307-9f00-4cf3-f40a-6f64a1d10816"
      },
      "source": [
        "sns.set_style('whitegrid')\n",
        "sns.kdeplot(diff,shade=True)\n",
        "plt.show()"
      ],
      "execution_count": null,
      "outputs": [
        {
          "output_type": "display_data",
          "data": {
            "image/png": "[encoded data removed]",
            "text/plain": [
              "<Figure size 432x288 with 1 Axes>"
            ]
          },
          "metadata": {}
        }
      ]
    },
    {
      "cell_type": "markdown",
      "metadata": {
        "id": "N5KutjPd2hf7"
      },
      "source": [
        "#Task \n",
        "#- What will be predicted score if a student studies for 9.25 hrs/ day?"
      ]
    },
    {
      "cell_type": "code",
      "metadata": {
        "colab": {
          "base_uri": "https://localhost:8080/"
        },
        "id": "yY1XTeHHxSsv",
        "outputId": "035571ed-af17-4c13-8e6f-ee5cfcf4795a"
      },
      "source": [
        "import math\n",
        "# y = mx + c\n",
        "res = lin_reg.intercept_+9.25*lin_reg.coef_\n",
        "hr= 9.25\n",
        "print(\"If student study for {} hrs/day student will get {}% score in exam\".format(hr,math.floor(res[0])))\n",
        "print('-'*80)"
      ],
      "execution_count": null,
      "outputs": [
        {
          "output_type": "stream",
          "name": "stdout",
          "text": [
            "If student study for 9.25 hrs/day student will get 93% score in exam\n",
            "--------------------------------------------------------------------------------\n"
          ]
        }
      ]
    },
    {
      "cell_type": "markdown",
      "metadata": {
        "id": "kns28lNt2ttv"
      },
      "source": [
        "#Model Evaluation \n",
        "#MAE :\n",
        "\n",
        "\n",
        "*   MAE measures the differences between prediction and actual observation.\n",
        "\n",
        "Formula :\n",
        "\n",
        "<img src=\"https://miro.medium.com/max/780/1*fYNhlncTwLYqUl-_H6YElA.png\">"
      ]
    },
    {
      "cell_type": "code",
      "metadata": {
        "colab": {
          "base_uri": "https://localhost:8080/"
        },
        "id": "Hr8xx97hxaAm",
        "outputId": "b563739e-6f91-438a-b841-aabaebe0f534"
      },
      "source": [
        "from sklearn import metrics  \n",
        "print('Mean Absolute Error:', \n",
        "      metrics.mean_absolute_error(y_test, y_pred))"
      ],
      "execution_count": null,
      "outputs": [
        {
          "output_type": "stream",
          "name": "stdout",
          "text": [
            "Mean Absolute Error: 4.130879918502482\n"
          ]
        }
      ]
    },
    {
      "cell_type": "markdown",
      "metadata": {
        "id": "8hLKiNUu3D7L"
      },
      "source": [
        "#MSE :\n",
        "\n",
        "\n",
        "*   MSE simply refers to the mean of the squared difference between the predicted value and the observed value.\n",
        "\n",
        "Formula :\n",
        "\n",
        "<img src=\"https://www.gstatic.com/education/formulas2/355397047/en/mean_squared_error.svg\">\n",
        "\n",
        "\n",
        "\n"
      ]
    },
    {
      "cell_type": "code",
      "metadata": {
        "colab": {
          "base_uri": "https://localhost:8080/"
        },
        "id": "uX-VzBZSxdhG",
        "outputId": "057c28f8-eb68-43de-fce7-845db23d7410"
      },
      "source": [
        "from sklearn import metrics  \n",
        "print('Mean Squared Error:', \n",
        "      metrics.mean_squared_error(y_test, y_pred))"
      ],
      "execution_count": null,
      "outputs": [
        {
          "output_type": "stream",
          "name": "stdout",
          "text": [
            "Mean Squared Error: 20.33292367497996\n"
          ]
        }
      ]
    },
    {
      "cell_type": "markdown",
      "metadata": {
        "id": "ZHlbDQZ3yXmw"
      },
      "source": [
        "##R-Square :\n",
        "\n",
        "\n",
        "*   R-squared is measure of how close the data are to the fitted regression line.\n",
        "\n",
        "Formula :\n",
        "\n",
        "<img src=\"https://www.gstatic.com/education/formulas2/355397047/en/coefficient_of_determination.svg\">\n"
      ]
    },
    {
      "cell_type": "code",
      "metadata": {
        "colab": {
          "base_uri": "https://localhost:8080/"
        },
        "id": "5G9plh0sxmPu",
        "outputId": "991e410a-63f0-44ff-9f62-831ec728de92"
      },
      "source": [
        "from sklearn.metrics import r2_score\n",
        "r2_score(y_test,y_pred)"
      ],
      "execution_count": null,
      "outputs": [
        {
          "output_type": "execute_result",
          "data": {
            "text/plain": [
              "0.9367661043365056"
            ]
          },
          "metadata": {},
          "execution_count": 22
        }
      ]
    },
    {
      "cell_type": "markdown",
      "metadata": {
        "id": "vjkeXtKYxvUD"
      },
      "source": [
        "##Conclusion :\n",
        " \n",
        "*   We have successfully created a Simple linear Regression model to predict score of the student given number of hours one studies.\n",
        "*   By the MAE and MSE , we are not getting much difference in actual or predicted value , means error is less.\n",
        "*   The Score of R-Square 0.93 quite close to 1.\n",
        "\n",
        "\n"
      ]
    }
  ]
}